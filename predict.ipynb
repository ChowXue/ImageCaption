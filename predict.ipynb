{
 "cells": [
  {
   "cell_type": "code",
   "execution_count": 24,
   "metadata": {
    "collapsed": false
   },
   "outputs": [],
   "source": [
    "import sys\n",
    "import pickle\n",
    "from collections import Counter, OrderedDict\n",
    "import nltk\n",
    "import numpy as np\n",
    "from tqdm import tqdm\n",
    "from keras.models import load_model\n",
    "from nltk.tokenize import word_tokenize"
   ]
  },
  {
   "cell_type": "code",
   "execution_count": 10,
   "metadata": {
    "collapsed": false
   },
   "outputs": [
    {
     "name": "stdout",
     "output_type": "stream",
     "text": [
      "[nltk_data] Downloading package punkt to /home/qhduan/nltk_data...\n",
      "[nltk_data]   Package punkt is already up-to-date!\n"
     ]
    },
    {
     "data": {
      "text/plain": [
       "True"
      ]
     },
     "execution_count": 10,
     "metadata": {},
     "output_type": "execute_result"
    }
   ],
   "source": [
    "# Download tokenizer models if needed\n",
    "nltk.download('punkt')"
   ]
  },
  {
   "cell_type": "code",
   "execution_count": 3,
   "metadata": {
    "collapsed": true
   },
   "outputs": [],
   "source": [
    "keras_model = 'keras_image_caption_model.dat'"
   ]
  },
  {
   "cell_type": "code",
   "execution_count": 4,
   "metadata": {
    "collapsed": true
   },
   "outputs": [],
   "source": [
    "model = load_model(keras_model)"
   ]
  },
  {
   "cell_type": "code",
   "execution_count": 13,
   "metadata": {
    "collapsed": false
   },
   "outputs": [
    {
     "name": "stdout",
     "output_type": "stream",
     "text": [
      "train_size 123287\n",
      "100%|██████████| 123287/123287 [00:12<00:00, 10198.75it/s]\n",
      "vocabulary_size 8075\n",
      "max_len 55\n",
      "train_words_size 1393524\n"
     ]
    }
   ],
   "source": [
    "# Read image file_name and their captions\n",
    "file_name_caption = pickle.load(open( \"file_name_caption.bat\", \"rb\" ))\n",
    "# Read image file_name and their VGG 16 weights\n",
    "file_name_images = pickle.load(open( \"file_name_images.bat\", \"rb\" ))\n",
    "\n",
    "train_size = len(file_name_caption)\n",
    "print('train_size', train_size)\n",
    "\n",
    "START = '<start>'\n",
    "END = '<end>'\n",
    "UNK = '<unk>'\n",
    "PAD = '<pad>'\n",
    "\n",
    "min_count = 3\n",
    "max_len = 0\n",
    "train_words_size = 0\n",
    "vocabulary = Counter()\n",
    "for caption in tqdm(file_name_caption.values(), file=sys.stdout, total=len(file_name_caption)):\n",
    "    sent = word_tokenize(caption)\n",
    "    vocabulary.update(sent)\n",
    "    train_words_size += len(sent)\n",
    "    if len(sent) > max_len: max_len = len(sent)\n",
    "\n",
    "vocabulary = [k for k, v in vocabulary.items() if v >= min_count]\n",
    "vocabulary = sorted(list(set(vocabulary)))\n",
    "word_index = OrderedDict()\n",
    "index_word = OrderedDict()\n",
    "for index, word in enumerate([START, END, UNK, PAD] + vocabulary):\n",
    "    word_index[word] = index\n",
    "    index_word[index] = word\n",
    "vocabulary_size = len(word_index)\n",
    "\n",
    "print('vocabulary_size', vocabulary_size)\n",
    "print('max_len', max_len)\n",
    "print('train_words_size', train_words_size)"
   ]
  },
  {
   "cell_type": "code",
   "execution_count": 14,
   "metadata": {
    "collapsed": true
   },
   "outputs": [],
   "source": [
    "file_name_list = list(file_name_images.keys())"
   ]
  },
  {
   "cell_type": "code",
   "execution_count": 18,
   "metadata": {
    "collapsed": true
   },
   "outputs": [],
   "source": [
    "def sent_to_index(input_sent, word_index, max_len):\n",
    "    padding_size = max_len - len(input_sent)\n",
    "\n",
    "    input_sent = input_sent + padding_size * [PAD]\n",
    "    input_sent_index = []\n",
    "    for w in input_sent:\n",
    "        if w in word_index:\n",
    "            input_sent_index.append(word_index[w])\n",
    "        else:\n",
    "            input_sent_index.append(word_index[UNK])\n",
    "    return input_sent_index"
   ]
  },
  {
   "cell_type": "code",
   "execution_count": 39,
   "metadata": {
    "collapsed": true
   },
   "outputs": [],
   "source": [
    "def predict_weights(weights, word_index, index_word, max_len):\n",
    "    sent = [START]\n",
    "    while True:\n",
    "        sent_index = sent_to_index(sent, word_index, max_len)\n",
    "        index = model.predict([np.asarray([weights]), np.asarray([sent_index])]).argmax()\n",
    "        if index in index_word:\n",
    "            word = index_word[index]\n",
    "        else:\n",
    "            word = UNK\n",
    "        sent.append(word)\n",
    "        if word == END or len(sent) > max_len:\n",
    "            break\n",
    "    return sent"
   ]
  },
  {
   "cell_type": "code",
   "execution_count": 44,
   "metadata": {
    "collapsed": false
   },
   "outputs": [
    {
     "data": {
      "text/plain": [
       "'COCO_val2014_000000119081.jpg'"
      ]
     },
     "execution_count": 44,
     "metadata": {},
     "output_type": "execute_result"
    }
   ],
   "source": [
    "file_name_list[1]"
   ]
  },
  {
   "cell_type": "code",
   "execution_count": 45,
   "metadata": {
    "collapsed": false
   },
   "outputs": [
    {
     "data": {
      "text/plain": [
       "['<start>',\n",
       " 'A',\n",
       " 'cat',\n",
       " 'is',\n",
       " 'lounging',\n",
       " 'on',\n",
       " 'a',\n",
       " 'bed',\n",
       " 'with',\n",
       " 'a',\n",
       " 'lamp',\n",
       " '.',\n",
       " \"''\",\n",
       " '.',\n",
       " '.',\n",
       " 'and',\n",
       " 'a',\n",
       " 'pair',\n",
       " 'of',\n",
       " 'scissors',\n",
       " '.',\n",
       " '.',\n",
       " 'and',\n",
       " 'a',\n",
       " 'pair',\n",
       " 'of',\n",
       " 'paper',\n",
       " '.',\n",
       " '.',\n",
       " 'and',\n",
       " 'a',\n",
       " 'pair',\n",
       " 'of',\n",
       " 'paper',\n",
       " '.',\n",
       " 'and',\n",
       " 'a',\n",
       " 'mouse',\n",
       " '.',\n",
       " '<unk>',\n",
       " 'and',\n",
       " 'a',\n",
       " 'mouse',\n",
       " 'control',\n",
       " '.',\n",
       " \"''\",\n",
       " '.',\n",
       " '<unk>',\n",
       " 'a',\n",
       " 'mouse',\n",
       " '.',\n",
       " '<unk>',\n",
       " '.',\n",
       " \"''\",\n",
       " '.',\n",
       " 'control']"
      ]
     },
     "execution_count": 45,
     "metadata": {},
     "output_type": "execute_result"
    }
   ],
   "source": [
    "predict_weights(file_name_images[file_name_list[1]], word_index, index_word, max_len)"
   ]
  },
  {
   "cell_type": "code",
   "execution_count": 30,
   "metadata": {
    "collapsed": false
   },
   "outputs": [
    {
     "data": {
      "text/plain": [
       "50"
      ]
     },
     "execution_count": 30,
     "metadata": {},
     "output_type": "execute_result"
    }
   ],
   "source": [
    "ret"
   ]
  },
  {
   "cell_type": "code",
   "execution_count": 32,
   "metadata": {
    "collapsed": false
   },
   "outputs": [
    {
     "data": {
      "text/plain": [
       "'A'"
      ]
     },
     "execution_count": 32,
     "metadata": {},
     "output_type": "execute_result"
    }
   ],
   "source": [
    "index_word[ret.argmax()]"
   ]
  },
  {
   "cell_type": "code",
   "execution_count": null,
   "metadata": {
    "collapsed": true
   },
   "outputs": [],
   "source": []
  }
 ],
 "metadata": {
  "kernelspec": {
   "display_name": "Python 3",
   "language": "python",
   "name": "python3"
  },
  "language_info": {
   "codemirror_mode": {
    "name": "ipython",
    "version": 3
   },
   "file_extension": ".py",
   "mimetype": "text/x-python",
   "name": "python",
   "nbconvert_exporter": "python",
   "pygments_lexer": "ipython3",
   "version": "3.5.2"
  }
 },
 "nbformat": 4,
 "nbformat_minor": 2
}
